{
 "cells": [
  {
   "cell_type": "markdown",
   "metadata": {},
   "source": [
    "# Weekly Task 2\n",
    "\n",
    "## Bank.py program\n",
    "## Author: Anna Lozenko\n",
    "\n",
    "The program should:\n",
    "\n",
    "- Prompt the user and read in two money amounts (in cent).\n",
    "\n",
    "- Add the two amounts.\n",
    "\n",
    "- Print out the answer in a human readable format with a euro sign and decimal point between the euro and cent of the amount."
   ]
  },
  {
   "cell_type": "code",
   "execution_count": 1,
   "metadata": {},
   "outputs": [
    {
     "name": "stdout",
     "output_type": "stream",
     "text": [
      "The sum of these amounts is € 0.3.\n"
     ]
    }
   ],
   "source": [
    "amount1 = int(input(\"Enter the first amount (in cent):\"))\n",
    "amount2 = int(input(\"Enter the second amount (in cent):\"))\n",
    "\n",
    "sum = (amount1 +  amount2)/100   # the sum of the amounts is divided by 100 because the results should be expressed in Euro.\n",
    "\n",
    "print (f\"The sum of these amounts is € {sum}.\")"
   ]
  }
 ],
 "metadata": {
  "kernelspec": {
   "display_name": "Python 3",
   "language": "python",
   "name": "python3"
  },
  "language_info": {
   "codemirror_mode": {
    "name": "ipython",
    "version": 3
   },
   "file_extension": ".py",
   "mimetype": "text/x-python",
   "name": "python",
   "nbconvert_exporter": "python",
   "pygments_lexer": "ipython3",
   "version": "3.12.1"
  }
 },
 "nbformat": 4,
 "nbformat_minor": 2
}
